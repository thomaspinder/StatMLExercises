{
  "cells": [
    {
      "cell_type": "code",
      "execution_count": 1,
      "id": "c0sP2KUO8wqd",
      "metadata": {
        "id": "c0sP2KUO8wqd"
      },
      "outputs": [],
      "source": [
        "%%capture\n",
        "!pip install gpjax\n",
        "!pip install beartype\n",
        "!pip install -U tensorflow_probability"
      ]
    },
    {
      "cell_type": "code",
      "execution_count": 2,
      "id": "6fb9a44a",
      "metadata": {
        "id": "6fb9a44a",
        "lines_to_next_cell": 2
      },
      "outputs": [],
      "source": [
        "import jax\n",
        "\n",
        "jax.config.update(\"jax_enable_x64\", True)\n",
        "from beartype.typing import Callable, Tuple\n",
        "import jax.numpy as jnp\n",
        "import jax.random as jr\n",
        "import matplotlib.pyplot as plt\n",
        "import optax as ox\n",
        "import numpy as np\n",
        "import pandas as pd\n",
        "from sklearn.preprocessing import StandardScaler\n",
        "import gpjax as gpx\n",
        "from jaxtyping import Float64, Array\n",
        "import beartype.typing as tp\n",
        "from beartype import beartype\n",
        "\n",
        "plt.style.use(\n",
        "    \"https://raw.githubusercontent.com/JaxGaussianProcesses/GPJax/main/docs/examples/gpjax.mplstyle\"\n",
        ")\n",
        "cols = plt.rcParams[\"axes.prop_cycle\"].by_key()[\"color\"]\n",
        "key = jr.PRNGKey(123)"
      ]
    },
    {
      "cell_type": "markdown",
      "id": "097abeab",
      "metadata": {
        "id": "097abeab",
        "lines_to_next_cell": 2
      },
      "source": [
        "## Unit Tests and Typing\n",
        "\n",
        "In the previous demo, we wrote a function to compute the Gram matrix of a kernel.\n",
        "\n",
        "## Exercise 1\n",
        "\n",
        "We have the following types: `Float64`, `Array`, `tp.Dict`, `str`, and `Callable` available in the notebook. Using these types, annotate the arguments and return types of the `rbf_kernel` and `evaluate_kernel` functions below.\n",
        "\n",
        "Notes\n",
        "\n",
        "1. `Callable` is synonymous to a function and has the syntax `Callable[[input_type_1, input_type_2], return_type]`.\n",
        "2. An $N\\times D$ Float64 array is annotated `Float64[Array, \"N D\"]`.\n"
      ]
    },
    {
      "cell_type": "code",
      "execution_count": 3,
      "id": "7ec58711",
      "metadata": {
        "colab": {
          "base_uri": "https://localhost:8080/"
        },
        "id": "7ec58711",
        "outputId": "4aad830b-0b04-4f74-8208-6de5bcf7ac61"
      },
      "outputs": [
        {
          "data": {
            "text/plain": [
              "(100, 100)"
            ]
          },
          "execution_count": 3,
          "metadata": {},
          "output_type": "execute_result"
        }
      ],
      "source": [
        "@beartype\n",
        "def rbf_kernel(x, y, params):\n",
        "    ell, sigma = params[\"lengthscale\"], params[\"variance\"]\n",
        "    tau = jnp.sum(jnp.square(x / ell - y / ell))\n",
        "    return sigma * jnp.exp(-0.5 * tau)\n",
        "\n",
        "\n",
        "@beartype\n",
        "def evaluate_kernel(kernel_fn, x, y, params):\n",
        "    K = jax.vmap(lambda x1: jax.vmap(lambda y1: kernel_fn(x1, y1, params))(y))(x)\n",
        "    return K.squeeze()\n",
        "\n",
        "\n",
        "N = 100\n",
        "X = jnp.sort(jr.uniform(key, shape=(N, 1), minval=-3.0, maxval=3), axis=0)\n",
        "params = {\"lengthscale\": jnp.array([1.0]), \"variance\": jnp.array([0.5])}\n",
        "K = evaluate_kernel(rbf_kernel, X, X, params)"
      ]
    },
    {
      "cell_type": "markdown",
      "id": "k0TSmb859ZjA",
      "metadata": {
        "id": "k0TSmb859ZjA"
      },
      "source": [
        "Let's now write a function to test our kernel function. Due to Beartype and JaxTyping, we do not need to worry about types or shapes. However, we should check that the kernel is being _correctly_ computed.\n",
        "\n",
        "## Exercise 2\n",
        "\n",
        "Write a unit test to determine if the kernel matrix produced by `evaluate_kernel` is positive definite.\n"
      ]
    },
    {
      "cell_type": "code",
      "execution_count": 4,
      "id": "Bw7T4cRW91nE",
      "metadata": {
        "colab": {
          "base_uri": "https://localhost:8080/"
        },
        "id": "Bw7T4cRW91nE",
        "outputId": "5f5dc3d7-31ab-4829-c4a9-2d844301b4cc"
      },
      "outputs": [
        {
          "name": "stdout",
          "output_type": "stream",
          "text": [
            "Overwriting compute_kernel.py\n"
          ]
        }
      ],
      "source": [
        "%%file compute_kernel.py\n",
        "import jax\n",
        "\n",
        "jax.config.update(\"jax_enable_x64\", True)\n",
        "import jax.numpy as jnp\n",
        "from jaxtyping import Float64, Array\n",
        "\n",
        "\n",
        "def rbf_kernel(x, y, params):\n",
        "    ell, sigma = params[\"lengthscale\"], params[\"variance\"]\n",
        "    tau = jnp.sum(jnp.square(x / ell - y / ell))\n",
        "    return sigma * jnp.exp(-0.5 * tau)\n",
        "\n",
        "\n",
        "def evaluate_kernel(kernel_fn, x, y, params):\n",
        "    K = jax.vmap(lambda x1: jax.vmap(lambda y1: kernel_fn(x1, y1, params))(y))(x)\n",
        "    return K.squeeze()\n",
        "\n",
        "\n",
        "def stabilise_covariance(K, jitter):\n",
        "    N = K.shape[0]\n",
        "    eye = jnp.eye(N)\n",
        "    jitter_matrix = eye * jitter\n",
        "    return K + jitter_matrix"
      ]
    },
    {
      "cell_type": "code",
      "execution_count": 5,
      "id": "1nIVAgUa-K4D",
      "metadata": {
        "colab": {
          "base_uri": "https://localhost:8080/"
        },
        "id": "1nIVAgUa-K4D",
        "outputId": "a0a9dd41-07c6-4243-c269-7213b08a8a33"
      },
      "outputs": [
        {
          "name": "stdout",
          "output_type": "stream",
          "text": [
            "Overwriting test_kernel.py\n"
          ]
        }
      ],
      "source": [
        "%%file test_kernel.py\n",
        "\n",
        "from compute_kernel import evaluate_kernel, rbf_kernel, stabilise_covariance\n",
        "import pytest\n",
        "import jax.random as jr\n",
        "import jax.numpy as jnp\n",
        "\n",
        "\n",
        "@pytest.mark.parametrize('n', [10, 100])\n",
        "@pytest.mark.parametrize('lengthscale', [0.1, 1.])\n",
        "@pytest.mark.parametrize('variance', [0.1, 1.])\n",
        "def test_kernel_psd(n, lengthscale, variance):\n",
        "    pass"
      ]
    },
    {
      "cell_type": "code",
      "execution_count": 6,
      "id": "r-s74-2Y_lD7",
      "metadata": {
        "colab": {
          "base_uri": "https://localhost:8080/"
        },
        "id": "r-s74-2Y_lD7",
        "outputId": "d1c69253-6d47-470e-b2bc-e3504c69f872"
      },
      "outputs": [
        {
          "name": "stdout",
          "output_type": "stream",
          "text": [
            "\u001b[1m======================================= test session starts ========================================\u001b[0m\n",
            "platform linux -- Python 3.10.12, pytest-7.4.4, pluggy-1.4.0\n",
            "rootdir: /content\n",
            "plugins: jaxtyping-0.2.25, typeguard-2.13.3, anyio-3.7.1\n",
            "\u001b[1mcollecting ... \u001b[0m\u001b[1m\rcollected 8 items                                                                                  \u001b[0m\n",
            "\n",
            "test_kernel.py \u001b[32m.\u001b[0m\u001b[32m.\u001b[0m\u001b[32m.\u001b[0m\u001b[32m.\u001b[0m\u001b[32m.\u001b[0m\u001b[32m.\u001b[0m\u001b[32m.\u001b[0m\u001b[32m.\u001b[0m\u001b[32m                                                                      [100%]\u001b[0m\n",
            "\n",
            "\u001b[32m======================================== \u001b[32m\u001b[1m8 passed\u001b[0m\u001b[32m in 2.42s\u001b[0m\u001b[32m =========================================\u001b[0m\n"
          ]
        }
      ],
      "source": [
        "!python -m pytest test_kernel.py"
      ]
    },
    {
      "cell_type": "markdown",
      "id": "257daf06",
      "metadata": {
        "id": "257daf06"
      },
      "source": [
        "## Using GPJax\n",
        "\n",
        "In the previous demo we saw how one can implement a GP using JAX. In this demo we're going to fit more complex regression models using GPJax. To get us started, let's first simulate a training dataset. To do this, we'll first define a GP prior using GPJax, and then draw a single sample from it.\n"
      ]
    },
    {
      "cell_type": "code",
      "execution_count": null,
      "id": "ed4f28e8",
      "metadata": {
        "colab": {
          "base_uri": "https://localhost:8080/",
          "height": 348
        },
        "id": "ed4f28e8",
        "outputId": "6f128ea6-3067-4ede-b3df-d30bdbea8816"
      },
      "outputs": [],
      "source": [
        "N = 100\n",
        "true_lengthscale = 0.75\n",
        "true_variance = 0.5\n",
        "true_noise = 0.1\n",
        "kernel = gpx.kernels.Matern32(lengthscale=true_lengthscale, variance=true_variance)\n",
        "\n",
        "# The points at which we'd like to evaluate the prior\n",
        "X = jnp.sort(jr.uniform(key, shape=(N, 1), minval=-3.0, maxval=3.0), axis=0)\n",
        "\n",
        "# Defining the prior\n",
        "_prior = gpx.gps.Prior(mean_function=gpx.mean_functions.Zero(), kernel=kernel)\n",
        "prior_mvn = _prior.predict(X)  # A 100-dimensional Gaussian\n",
        "prior_sample = prior_mvn.sample(seed=key, sample_shape=(1,)).T\n",
        "\n",
        "# Applying iid Gaussian noise to the prior sample\n",
        "key, subkey = jr.split(key)\n",
        "noise = jr.normal(subkey, shape=(N, 1)) * true_noise\n",
        "y = prior_sample + noise\n",
        "\n",
        "# Plot our sample\n",
        "fig, ax = plt.subplots()\n",
        "ax.plot(X, y, \"x\", label=\"Observations\")\n",
        "ax.plot(X, prior_sample, label=\"Latent sample\")\n",
        "ax.legend()"
      ]
    },
    {
      "cell_type": "markdown",
      "id": "02396e1b",
      "metadata": {
        "id": "02396e1b"
      },
      "source": [
        "## Fitting a GP Regression Model\n",
        "\n",
        "To instantiate the GP prior in GPJax, we must specify the mean function and kernel that parameterise our GP prior. With this, we are then able to define the prior.\n",
        "\n",
        "For the posterior, we must also specify the likelihood function. As we are carrying out GP regression in this example, a Gaussian likelihood will be assumed. Once we have a prior and a likelihood, we are able to instantiate the posterior distribution. We see this below.\n"
      ]
    },
    {
      "cell_type": "code",
      "execution_count": 8,
      "id": "035fe3a1",
      "metadata": {
        "id": "035fe3a1"
      },
      "outputs": [],
      "source": [
        "kernel = gpx.kernels.RBF()\n",
        "meanf = gpx.mean_functions.Zero()\n",
        "prior = gpx.gps.Prior(mean_function=meanf, kernel=kernel)\n",
        "\n",
        "likelihood = gpx.likelihoods.Gaussian(num_datapoints=N)\n",
        "\n",
        "posterior = prior * likelihood"
      ]
    },
    {
      "cell_type": "markdown",
      "id": "5e08ac66",
      "metadata": {
        "id": "5e08ac66"
      },
      "source": [
        "Now that we have a posterior distribution defined, we would like to optimise its parameters and obtain Type-II MLEs, as we did in the first notebook. Achieving this in GPJax is straightforward as we simply instantiate the `ConjugateMLL` object and evaluate it for a given posterior distribution and dataset.\n"
      ]
    },
    {
      "cell_type": "code",
      "execution_count": 9,
      "id": "313d652a",
      "metadata": {
        "colab": {
          "base_uri": "https://localhost:8080/"
        },
        "id": "313d652a",
        "outputId": "2974edf6-3fa0-4295-e972-8fb769bc2293"
      },
      "outputs": [
        {
          "data": {
            "text/plain": [
              "Array(104.37393914, dtype=float64)"
            ]
          },
          "execution_count": 9,
          "metadata": {},
          "output_type": "execute_result"
        }
      ],
      "source": [
        "D = gpx.Dataset(X=X, y=y)\n",
        "negative_mll = gpx.objectives.ConjugateMLL(negative=True)\n",
        "\n",
        "negative_mll(posterior, train_data=D)"
      ]
    },
    {
      "cell_type": "markdown",
      "id": "da2fa84f",
      "metadata": {
        "id": "da2fa84f"
      },
      "source": [
        "We'll use GPJax's convenient `fit` function to optimise the parameters of our GP. Under-the-hood, this is performing gradient descent in a very similar manner to what we saw in the first demo.\n"
      ]
    },
    {
      "cell_type": "code",
      "execution_count": 10,
      "id": "4f702a72",
      "metadata": {
        "colab": {
          "base_uri": "https://localhost:8080/",
          "height": 49,
          "referenced_widgets": [
            "22a913f979c64a5b90a8cd8e1766f0bd",
            "4d5736999e424c13beddecd32e8b531a",
            "a845b3e21eed4bc5b030e3fac7781d34",
            "01f43d2f79f245a092c2693bf40c509b",
            "e1ff9f79412b4b0dbcb9026f07c4894b",
            "c89860a57f724cad8fb364dd344b38c2",
            "5d4acb35276b4ae995ebbff783cadf84",
            "aad926b5815047e2ab62d89cc18074ad",
            "74cfc6c5559542c699451abe964de71c",
            "fd71aa9cfa2c4ec9b8613442bf708927",
            "9d3a1188a2de4b1db99a164e30b80ba3"
          ]
        },
        "id": "4f702a72",
        "outputId": "5acb78be-c116-4c22-cb7e-06673b5cac30"
      },
      "outputs": [
        {
          "data": {
            "application/vnd.jupyter.widget-view+json": {
              "model_id": "22a913f979c64a5b90a8cd8e1766f0bd",
              "version_major": 2,
              "version_minor": 0
            },
            "text/plain": [
              "  0%|          | 0/500 [00:00<?, ?it/s]"
            ]
          },
          "metadata": {},
          "output_type": "display_data"
        }
      ],
      "source": [
        "import optax as ox\n",
        "\n",
        "opt = ox.adam(learning_rate=0.01)\n",
        "\n",
        "opt_posterior, history = gpx.fit(\n",
        "    model=posterior,\n",
        "    objective=jax.jit(negative_mll),\n",
        "    train_data=D,\n",
        "    optim=opt,\n",
        "    key=key,\n",
        "    num_iters=500,\n",
        ")"
      ]
    },
    {
      "cell_type": "markdown",
      "id": "4511450b",
      "metadata": {
        "id": "4511450b"
      },
      "source": [
        "We can inspect the MLL that was obtained at each step of the optimisation routine to check for convergence.\n"
      ]
    },
    {
      "cell_type": "code",
      "execution_count": null,
      "id": "03f805c3",
      "metadata": {
        "colab": {
          "base_uri": "https://localhost:8080/",
          "height": 348
        },
        "id": "03f805c3",
        "outputId": "d3df659d-e04d-47aa-86da-aced68aec34b"
      },
      "outputs": [],
      "source": [
        "fig, ax = plt.subplots()\n",
        "ax.plot(history, label=\"MLL\")\n",
        "ax.set(xlabel=\"Iteration\", ylabel=\"MLL\")\n",
        "ax.legend()"
      ]
    },
    {
      "cell_type": "markdown",
      "id": "6a31ef24",
      "metadata": {
        "id": "6a31ef24"
      },
      "source": [
        "Looks good! Now let's compute the predictive posterior distribution for our GP. We'll do this by first defining a test dataset, and then using the `predict` function. This function takes in a posterior distribution and a test dataset, and returns the predictive posterior distribution for the test dataset.\n"
      ]
    },
    {
      "cell_type": "code",
      "execution_count": 12,
      "id": "95b44b14",
      "metadata": {
        "id": "95b44b14",
        "lines_to_next_cell": 2
      },
      "outputs": [],
      "source": [
        "xtest = jnp.linspace(-3.1, 3.1, 500)[:, None]\n",
        "\n",
        "latent_dist = opt_posterior.predict(xtest, train_data=D)\n",
        "predictive_dist = opt_posterior.likelihood(latent_dist)\n",
        "\n",
        "predictive_mean = predictive_dist.mean()\n",
        "predictive_std = predictive_dist.stddev()"
      ]
    },
    {
      "cell_type": "markdown",
      "id": "9bc31bd0",
      "metadata": {
        "id": "9bc31bd0",
        "lines_to_next_cell": 2
      },
      "source": [
        "We can also plot the distribution, as we did before.\n"
      ]
    },
    {
      "cell_type": "code",
      "execution_count": null,
      "id": "a8bcd4d9",
      "metadata": {
        "colab": {
          "base_uri": "https://localhost:8080/",
          "height": 330
        },
        "id": "a8bcd4d9",
        "outputId": "833ec1fb-77dd-4bc8-8a14-ce31b9d157d5"
      },
      "outputs": [],
      "source": [
        "def plot_predictions(X, y, xtest, predictive_mean, predictive_std):\n",
        "    fig, ax = plt.subplots(figsize=(7.5, 2.5))\n",
        "    ax.plot(X, y, \"x\", label=\"Observations\", color=cols[0], alpha=0.5)\n",
        "    ax.fill_between(\n",
        "        xtest.squeeze(),\n",
        "        predictive_mean - 2 * predictive_std,\n",
        "        predictive_mean + 2 * predictive_std,\n",
        "        alpha=0.2,\n",
        "        label=\"Two sigma\",\n",
        "        color=cols[1],\n",
        "    )\n",
        "    ax.plot(\n",
        "        xtest,\n",
        "        predictive_mean - 2 * predictive_std,\n",
        "        linestyle=\"--\",\n",
        "        linewidth=1,\n",
        "        color=cols[1],\n",
        "    )\n",
        "    ax.plot(\n",
        "        xtest,\n",
        "        predictive_mean + 2 * predictive_std,\n",
        "        linestyle=\"--\",\n",
        "        linewidth=1,\n",
        "        color=cols[1],\n",
        "    )\n",
        "    ax.plot(xtest, predictive_mean, label=\"Predictive mean\", color=cols[1])\n",
        "    ax.legend(loc=\"center left\", bbox_to_anchor=(0.975, 0.5))\n",
        "\n",
        "\n",
        "plot_predictions(X, y, xtest, predictive_mean, predictive_std)"
      ]
    },
    {
      "cell_type": "markdown",
      "id": "dad98bd4",
      "metadata": {
        "id": "dad98bd4"
      },
      "source": [
        "## Exercise 3\n",
        "\n",
        "Propose alternative parameterisations of your Gaussian process and fit them. Compare the final marginal log-likelihood values that you obtain. What do you notice? When is the marginal log-likelihood maximised. Note: the printout from `fit` is the negative MLL, so here you'd seek the minimiser.\n"
      ]
    },
    {
      "cell_type": "markdown",
      "id": "7a851938",
      "metadata": {
        "id": "7a851938"
      },
      "source": [
        "## Modelling Real-World Data\n",
        "\n",
        "We support a large number of kernels in GPJax. A convenient property of kernels is that they are closed under addition and multiplication. This allows us to combine kernels to capture more complex structures in the data. In this section, we shall do this to model the Mauna Loa dataset. To get started, let's first load and inspect the data.\n"
      ]
    },
    {
      "cell_type": "code",
      "execution_count": null,
      "id": "89945c87",
      "metadata": {
        "colab": {
          "base_uri": "https://localhost:8080/",
          "height": 348
        },
        "id": "89945c87",
        "outputId": "c7b3bfa6-756c-4a1d-fa62-7ae4545db765"
      },
      "outputs": [],
      "source": [
        "co2_data = pd.read_csv(\n",
        "    \"https://gml.noaa.gov/webdata/ccgg/trends/co2/co2_mm_mlo.csv\", comment=\"#\"\n",
        ")\n",
        "co2_data = co2_data.loc[co2_data[\"decimal date\"] < 1990 + 11 / 12]\n",
        "\n",
        "# Partition into a train and test set\n",
        "Ntrain = int(co2_data.shape[0] * 0.8)\n",
        "Xtr = co2_data[\"decimal date\"].values[:Ntrain, None]\n",
        "Xte = co2_data[\"decimal date\"].values[Ntrain:, None]\n",
        "ytr = co2_data[\"average\"].values[:Ntrain, None]\n",
        "yte = co2_data[\"average\"].values[Ntrain:, None]\n",
        "\n",
        "# Standardise the response\n",
        "yscaler = StandardScaler()\n",
        "ytr = yscaler.fit_transform(ytr)\n",
        "yte = yscaler.transform(yte)\n",
        "\n",
        "# Store the data in a Dataset object\n",
        "co2_data = gpx.Dataset(X=Xtr, y=ytr)\n",
        "\n",
        "# Plot the data\n",
        "fig, ax = plt.subplots()\n",
        "ax.plot(Xtr, ytr, label=\"Train\")\n",
        "ax.plot(Xte, yte, label=\"Test\")\n",
        "ax.set_title(\"CO2 Concentration in the Atmosphere\")\n",
        "ax.set_xlabel(\"Year\")\n",
        "ax.set_ylabel(\"CO2 Concentration (ppm)\")\n",
        "ax.legend()"
      ]
    },
    {
      "cell_type": "markdown",
      "id": "277cfe47",
      "metadata": {
        "id": "277cfe47"
      },
      "source": [
        "Clearly there's some complex correlation present in this data, but let's try a simple stationary kernel first to see how it performs.\n"
      ]
    },
    {
      "cell_type": "code",
      "execution_count": null,
      "id": "9975557e",
      "metadata": {
        "colab": {
          "base_uri": "https://localhost:8080/",
          "height": 362,
          "referenced_widgets": [
            "c93122a283ee45f29fc55e531868ac3a",
            "ef674bed3ffb44268e65ac6280f19574",
            "cfaff5afa9b2476da4d55cdc1eaac0cf",
            "454b2ff250f14c3d85540f0619b51ea5",
            "034edc0266ee46caa6fd0d21ed3f3008",
            "0cbcc0733eee42afbaa24e94e2426012",
            "604095c2164a4559881440d60f6ee602",
            "77ea5ef2c89047e19ba4d432dd49560e",
            "23397ff19c4e4b16b24f87832d5035e9",
            "421e40147123432ba8ac847a5e24762b",
            "32e67146923a4c23b310d12e9e8e099c"
          ]
        },
        "id": "9975557e",
        "outputId": "ede0d900-cd93-4276-ba55-aeb35540db5d"
      },
      "outputs": [],
      "source": [
        "# Define the prior\n",
        "kernel = gpx.kernels.Matern52()\n",
        "meanf = gpx.mean_functions.Constant()\n",
        "prior = gpx.gps.Prior(mean_function=meanf, kernel=kernel)\n",
        "\n",
        "# Instantiate the likelihood and posterior\n",
        "likelihood = gpx.likelihoods.Gaussian(num_datapoints=co2_data.n)\n",
        "posterior = prior * likelihood\n",
        "\n",
        "# Optimise the posterior w.r.t. the MLL\n",
        "mll = jax.jit(gpx.objectives.ConjugateMLL(negative=True).step)\n",
        "opt_posterior, history = gpx.fit(\n",
        "    model=posterior,\n",
        "    objective=mll,\n",
        "    train_data=co2_data,\n",
        "    optim=ox.adamw(learning_rate=0.1),\n",
        "    num_iters=500,\n",
        "    key=key,\n",
        ")\n",
        "\n",
        "# Let's predict at all points\n",
        "latent_dist = opt_posterior.predict(jnp.vstack([Xtr, Xte]), train_data=co2_data)\n",
        "predictive_dist = opt_posterior.likelihood(latent_dist)\n",
        "\n",
        "predictive_mean = predictive_dist.mean()\n",
        "predictive_std = predictive_dist.stddev()\n",
        "\n",
        "plot_predictions(\n",
        "    jnp.vstack([Xtr, Xte]),\n",
        "    jnp.vstack([ytr, yte]),\n",
        "    jnp.vstack([Xtr, Xte]),\n",
        "    predictive_mean,\n",
        "    predictive_std,\n",
        ")"
      ]
    },
    {
      "cell_type": "markdown",
      "id": "fe124a1f",
      "metadata": {
        "id": "fe124a1f"
      },
      "source": [
        "Clearly this is not the behaviour that we would like from our GP.\n",
        "\n",
        "## Exercise 4\n",
        "\n",
        "Using the above, try and design a better kernel and mean function for the data. Note that two kernels can be summed or multiplied in GPJax using the `+` and `*` operators respectively. To see the list of available kernels you may print the `gpx.kernels.__all__` variable.\n"
      ]
    }
  ],
  "metadata": {
    "colab": {
      "provenance": []
    },
    "jupytext": {
      "custom_cell_magics": "kql"
    },
    "kernelspec": {
      "display_name": "gpjax",
      "language": "python",
      "name": "python3"
    },
    "widgets": {
      "application/vnd.jupyter.widget-state+json": {
        "01f43d2f79f245a092c2693bf40c509b": {
          "model_module": "@jupyter-widgets/controls",
          "model_module_version": "1.5.0",
          "model_name": "HTMLModel",
          "state": {
            "_dom_classes": [],
            "_model_module": "@jupyter-widgets/controls",
            "_model_module_version": "1.5.0",
            "_model_name": "HTMLModel",
            "_view_count": null,
            "_view_module": "@jupyter-widgets/controls",
            "_view_module_version": "1.5.0",
            "_view_name": "HTMLView",
            "description": "",
            "description_tooltip": null,
            "layout": "IPY_MODEL_fd71aa9cfa2c4ec9b8613442bf708927",
            "placeholder": "​",
            "style": "IPY_MODEL_9d3a1188a2de4b1db99a164e30b80ba3",
            "value": " 500/500 [00:08&lt;00:00, 95.36it/s, Value=-45.27]"
          }
        },
        "034edc0266ee46caa6fd0d21ed3f3008": {
          "model_module": "@jupyter-widgets/base",
          "model_module_version": "1.2.0",
          "model_name": "LayoutModel",
          "state": {
            "_model_module": "@jupyter-widgets/base",
            "_model_module_version": "1.2.0",
            "_model_name": "LayoutModel",
            "_view_count": null,
            "_view_module": "@jupyter-widgets/base",
            "_view_module_version": "1.2.0",
            "_view_name": "LayoutView",
            "align_content": null,
            "align_items": null,
            "align_self": null,
            "border": null,
            "bottom": null,
            "display": null,
            "flex": null,
            "flex_flow": null,
            "grid_area": null,
            "grid_auto_columns": null,
            "grid_auto_flow": null,
            "grid_auto_rows": null,
            "grid_column": null,
            "grid_gap": null,
            "grid_row": null,
            "grid_template_areas": null,
            "grid_template_columns": null,
            "grid_template_rows": null,
            "height": null,
            "justify_content": null,
            "justify_items": null,
            "left": null,
            "margin": null,
            "max_height": null,
            "max_width": null,
            "min_height": null,
            "min_width": null,
            "object_fit": null,
            "object_position": null,
            "order": null,
            "overflow": null,
            "overflow_x": null,
            "overflow_y": null,
            "padding": null,
            "right": null,
            "top": null,
            "visibility": null,
            "width": null
          }
        },
        "0cbcc0733eee42afbaa24e94e2426012": {
          "model_module": "@jupyter-widgets/base",
          "model_module_version": "1.2.0",
          "model_name": "LayoutModel",
          "state": {
            "_model_module": "@jupyter-widgets/base",
            "_model_module_version": "1.2.0",
            "_model_name": "LayoutModel",
            "_view_count": null,
            "_view_module": "@jupyter-widgets/base",
            "_view_module_version": "1.2.0",
            "_view_name": "LayoutView",
            "align_content": null,
            "align_items": null,
            "align_self": null,
            "border": null,
            "bottom": null,
            "display": null,
            "flex": null,
            "flex_flow": null,
            "grid_area": null,
            "grid_auto_columns": null,
            "grid_auto_flow": null,
            "grid_auto_rows": null,
            "grid_column": null,
            "grid_gap": null,
            "grid_row": null,
            "grid_template_areas": null,
            "grid_template_columns": null,
            "grid_template_rows": null,
            "height": null,
            "justify_content": null,
            "justify_items": null,
            "left": null,
            "margin": null,
            "max_height": null,
            "max_width": null,
            "min_height": null,
            "min_width": null,
            "object_fit": null,
            "object_position": null,
            "order": null,
            "overflow": null,
            "overflow_x": null,
            "overflow_y": null,
            "padding": null,
            "right": null,
            "top": null,
            "visibility": null,
            "width": null
          }
        },
        "22a913f979c64a5b90a8cd8e1766f0bd": {
          "model_module": "@jupyter-widgets/controls",
          "model_module_version": "1.5.0",
          "model_name": "HBoxModel",
          "state": {
            "_dom_classes": [],
            "_model_module": "@jupyter-widgets/controls",
            "_model_module_version": "1.5.0",
            "_model_name": "HBoxModel",
            "_view_count": null,
            "_view_module": "@jupyter-widgets/controls",
            "_view_module_version": "1.5.0",
            "_view_name": "HBoxView",
            "box_style": "",
            "children": [
              "IPY_MODEL_4d5736999e424c13beddecd32e8b531a",
              "IPY_MODEL_a845b3e21eed4bc5b030e3fac7781d34",
              "IPY_MODEL_01f43d2f79f245a092c2693bf40c509b"
            ],
            "layout": "IPY_MODEL_e1ff9f79412b4b0dbcb9026f07c4894b"
          }
        },
        "23397ff19c4e4b16b24f87832d5035e9": {
          "model_module": "@jupyter-widgets/controls",
          "model_module_version": "1.5.0",
          "model_name": "ProgressStyleModel",
          "state": {
            "_model_module": "@jupyter-widgets/controls",
            "_model_module_version": "1.5.0",
            "_model_name": "ProgressStyleModel",
            "_view_count": null,
            "_view_module": "@jupyter-widgets/base",
            "_view_module_version": "1.2.0",
            "_view_name": "StyleView",
            "bar_color": null,
            "description_width": ""
          }
        },
        "32e67146923a4c23b310d12e9e8e099c": {
          "model_module": "@jupyter-widgets/controls",
          "model_module_version": "1.5.0",
          "model_name": "DescriptionStyleModel",
          "state": {
            "_model_module": "@jupyter-widgets/controls",
            "_model_module_version": "1.5.0",
            "_model_name": "DescriptionStyleModel",
            "_view_count": null,
            "_view_module": "@jupyter-widgets/base",
            "_view_module_version": "1.2.0",
            "_view_name": "StyleView",
            "description_width": ""
          }
        },
        "421e40147123432ba8ac847a5e24762b": {
          "model_module": "@jupyter-widgets/base",
          "model_module_version": "1.2.0",
          "model_name": "LayoutModel",
          "state": {
            "_model_module": "@jupyter-widgets/base",
            "_model_module_version": "1.2.0",
            "_model_name": "LayoutModel",
            "_view_count": null,
            "_view_module": "@jupyter-widgets/base",
            "_view_module_version": "1.2.0",
            "_view_name": "LayoutView",
            "align_content": null,
            "align_items": null,
            "align_self": null,
            "border": null,
            "bottom": null,
            "display": null,
            "flex": null,
            "flex_flow": null,
            "grid_area": null,
            "grid_auto_columns": null,
            "grid_auto_flow": null,
            "grid_auto_rows": null,
            "grid_column": null,
            "grid_gap": null,
            "grid_row": null,
            "grid_template_areas": null,
            "grid_template_columns": null,
            "grid_template_rows": null,
            "height": null,
            "justify_content": null,
            "justify_items": null,
            "left": null,
            "margin": null,
            "max_height": null,
            "max_width": null,
            "min_height": null,
            "min_width": null,
            "object_fit": null,
            "object_position": null,
            "order": null,
            "overflow": null,
            "overflow_x": null,
            "overflow_y": null,
            "padding": null,
            "right": null,
            "top": null,
            "visibility": null,
            "width": null
          }
        },
        "454b2ff250f14c3d85540f0619b51ea5": {
          "model_module": "@jupyter-widgets/controls",
          "model_module_version": "1.5.0",
          "model_name": "HTMLModel",
          "state": {
            "_dom_classes": [],
            "_model_module": "@jupyter-widgets/controls",
            "_model_module_version": "1.5.0",
            "_model_name": "HTMLModel",
            "_view_count": null,
            "_view_module": "@jupyter-widgets/controls",
            "_view_module_version": "1.5.0",
            "_view_name": "HTMLView",
            "description": "",
            "description_tooltip": null,
            "layout": "IPY_MODEL_421e40147123432ba8ac847a5e24762b",
            "placeholder": "​",
            "style": "IPY_MODEL_32e67146923a4c23b310d12e9e8e099c",
            "value": " 500/500 [00:32&lt;00:00, 15.64it/s, Value=3.69]"
          }
        },
        "4d5736999e424c13beddecd32e8b531a": {
          "model_module": "@jupyter-widgets/controls",
          "model_module_version": "1.5.0",
          "model_name": "HTMLModel",
          "state": {
            "_dom_classes": [],
            "_model_module": "@jupyter-widgets/controls",
            "_model_module_version": "1.5.0",
            "_model_name": "HTMLModel",
            "_view_count": null,
            "_view_module": "@jupyter-widgets/controls",
            "_view_module_version": "1.5.0",
            "_view_name": "HTMLView",
            "description": "",
            "description_tooltip": null,
            "layout": "IPY_MODEL_c89860a57f724cad8fb364dd344b38c2",
            "placeholder": "​",
            "style": "IPY_MODEL_5d4acb35276b4ae995ebbff783cadf84",
            "value": "Running: 100%"
          }
        },
        "5caaebcd525d4c258d33d6ef64dfde5c": {
          "model_module": "@jupyter-widgets/base",
          "model_module_version": "1.2.0",
          "model_name": "LayoutModel",
          "state": {
            "_model_module": "@jupyter-widgets/base",
            "_model_module_version": "1.2.0",
            "_model_name": "LayoutModel",
            "_view_count": null,
            "_view_module": "@jupyter-widgets/base",
            "_view_module_version": "1.2.0",
            "_view_name": "LayoutView",
            "align_content": null,
            "align_items": null,
            "align_self": null,
            "border": null,
            "bottom": null,
            "display": null,
            "flex": null,
            "flex_flow": null,
            "grid_area": null,
            "grid_auto_columns": null,
            "grid_auto_flow": null,
            "grid_auto_rows": null,
            "grid_column": null,
            "grid_gap": null,
            "grid_row": null,
            "grid_template_areas": null,
            "grid_template_columns": null,
            "grid_template_rows": null,
            "height": null,
            "justify_content": null,
            "justify_items": null,
            "left": null,
            "margin": null,
            "max_height": null,
            "max_width": null,
            "min_height": null,
            "min_width": null,
            "object_fit": null,
            "object_position": null,
            "order": null,
            "overflow": null,
            "overflow_x": null,
            "overflow_y": null,
            "padding": null,
            "right": null,
            "top": null,
            "visibility": null,
            "width": null
          }
        },
        "5d4acb35276b4ae995ebbff783cadf84": {
          "model_module": "@jupyter-widgets/controls",
          "model_module_version": "1.5.0",
          "model_name": "DescriptionStyleModel",
          "state": {
            "_model_module": "@jupyter-widgets/controls",
            "_model_module_version": "1.5.0",
            "_model_name": "DescriptionStyleModel",
            "_view_count": null,
            "_view_module": "@jupyter-widgets/base",
            "_view_module_version": "1.2.0",
            "_view_name": "StyleView",
            "description_width": ""
          }
        },
        "604095c2164a4559881440d60f6ee602": {
          "model_module": "@jupyter-widgets/controls",
          "model_module_version": "1.5.0",
          "model_name": "DescriptionStyleModel",
          "state": {
            "_model_module": "@jupyter-widgets/controls",
            "_model_module_version": "1.5.0",
            "_model_name": "DescriptionStyleModel",
            "_view_count": null,
            "_view_module": "@jupyter-widgets/base",
            "_view_module_version": "1.2.0",
            "_view_name": "StyleView",
            "description_width": ""
          }
        },
        "74cfc6c5559542c699451abe964de71c": {
          "model_module": "@jupyter-widgets/controls",
          "model_module_version": "1.5.0",
          "model_name": "ProgressStyleModel",
          "state": {
            "_model_module": "@jupyter-widgets/controls",
            "_model_module_version": "1.5.0",
            "_model_name": "ProgressStyleModel",
            "_view_count": null,
            "_view_module": "@jupyter-widgets/base",
            "_view_module_version": "1.2.0",
            "_view_name": "StyleView",
            "bar_color": null,
            "description_width": ""
          }
        },
        "77ea5ef2c89047e19ba4d432dd49560e": {
          "model_module": "@jupyter-widgets/base",
          "model_module_version": "1.2.0",
          "model_name": "LayoutModel",
          "state": {
            "_model_module": "@jupyter-widgets/base",
            "_model_module_version": "1.2.0",
            "_model_name": "LayoutModel",
            "_view_count": null,
            "_view_module": "@jupyter-widgets/base",
            "_view_module_version": "1.2.0",
            "_view_name": "LayoutView",
            "align_content": null,
            "align_items": null,
            "align_self": null,
            "border": null,
            "bottom": null,
            "display": null,
            "flex": null,
            "flex_flow": null,
            "grid_area": null,
            "grid_auto_columns": null,
            "grid_auto_flow": null,
            "grid_auto_rows": null,
            "grid_column": null,
            "grid_gap": null,
            "grid_row": null,
            "grid_template_areas": null,
            "grid_template_columns": null,
            "grid_template_rows": null,
            "height": null,
            "justify_content": null,
            "justify_items": null,
            "left": null,
            "margin": null,
            "max_height": null,
            "max_width": null,
            "min_height": null,
            "min_width": null,
            "object_fit": null,
            "object_position": null,
            "order": null,
            "overflow": null,
            "overflow_x": null,
            "overflow_y": null,
            "padding": null,
            "right": null,
            "top": null,
            "visibility": null,
            "width": null
          }
        },
        "7e65ed7c57b74b34942b7588d68c7350": {
          "model_module": "@jupyter-widgets/controls",
          "model_module_version": "1.5.0",
          "model_name": "HTMLModel",
          "state": {
            "_dom_classes": [],
            "_model_module": "@jupyter-widgets/controls",
            "_model_module_version": "1.5.0",
            "_model_name": "HTMLModel",
            "_view_count": null,
            "_view_module": "@jupyter-widgets/controls",
            "_view_module_version": "1.5.0",
            "_view_name": "HTMLView",
            "description": "",
            "description_tooltip": null,
            "layout": "IPY_MODEL_9468ac60907c4c479ff519b363bd8afa",
            "placeholder": "​",
            "style": "IPY_MODEL_c1473864480347c4bf2b8162b22f3034",
            "value": " 500/500 [00:34&lt;00:00, 16.88it/s, Value=-438.05]"
          }
        },
        "8161d6ebffbd431d8a0b9f284a5679a8": {
          "model_module": "@jupyter-widgets/controls",
          "model_module_version": "1.5.0",
          "model_name": "ProgressStyleModel",
          "state": {
            "_model_module": "@jupyter-widgets/controls",
            "_model_module_version": "1.5.0",
            "_model_name": "ProgressStyleModel",
            "_view_count": null,
            "_view_module": "@jupyter-widgets/base",
            "_view_module_version": "1.2.0",
            "_view_name": "StyleView",
            "bar_color": null,
            "description_width": ""
          }
        },
        "83174441247f4af0a231a25417ecc658": {
          "model_module": "@jupyter-widgets/controls",
          "model_module_version": "1.5.0",
          "model_name": "HBoxModel",
          "state": {
            "_dom_classes": [],
            "_model_module": "@jupyter-widgets/controls",
            "_model_module_version": "1.5.0",
            "_model_name": "HBoxModel",
            "_view_count": null,
            "_view_module": "@jupyter-widgets/controls",
            "_view_module_version": "1.5.0",
            "_view_name": "HBoxView",
            "box_style": "",
            "children": [
              "IPY_MODEL_d779acdc530b45dea4a183d01726c20d",
              "IPY_MODEL_d22ec9e517714b09b07740fed43e362b",
              "IPY_MODEL_7e65ed7c57b74b34942b7588d68c7350"
            ],
            "layout": "IPY_MODEL_9b93003c237548668aee6b246f333eb2"
          }
        },
        "9468ac60907c4c479ff519b363bd8afa": {
          "model_module": "@jupyter-widgets/base",
          "model_module_version": "1.2.0",
          "model_name": "LayoutModel",
          "state": {
            "_model_module": "@jupyter-widgets/base",
            "_model_module_version": "1.2.0",
            "_model_name": "LayoutModel",
            "_view_count": null,
            "_view_module": "@jupyter-widgets/base",
            "_view_module_version": "1.2.0",
            "_view_name": "LayoutView",
            "align_content": null,
            "align_items": null,
            "align_self": null,
            "border": null,
            "bottom": null,
            "display": null,
            "flex": null,
            "flex_flow": null,
            "grid_area": null,
            "grid_auto_columns": null,
            "grid_auto_flow": null,
            "grid_auto_rows": null,
            "grid_column": null,
            "grid_gap": null,
            "grid_row": null,
            "grid_template_areas": null,
            "grid_template_columns": null,
            "grid_template_rows": null,
            "height": null,
            "justify_content": null,
            "justify_items": null,
            "left": null,
            "margin": null,
            "max_height": null,
            "max_width": null,
            "min_height": null,
            "min_width": null,
            "object_fit": null,
            "object_position": null,
            "order": null,
            "overflow": null,
            "overflow_x": null,
            "overflow_y": null,
            "padding": null,
            "right": null,
            "top": null,
            "visibility": null,
            "width": null
          }
        },
        "9b93003c237548668aee6b246f333eb2": {
          "model_module": "@jupyter-widgets/base",
          "model_module_version": "1.2.0",
          "model_name": "LayoutModel",
          "state": {
            "_model_module": "@jupyter-widgets/base",
            "_model_module_version": "1.2.0",
            "_model_name": "LayoutModel",
            "_view_count": null,
            "_view_module": "@jupyter-widgets/base",
            "_view_module_version": "1.2.0",
            "_view_name": "LayoutView",
            "align_content": null,
            "align_items": null,
            "align_self": null,
            "border": null,
            "bottom": null,
            "display": null,
            "flex": null,
            "flex_flow": null,
            "grid_area": null,
            "grid_auto_columns": null,
            "grid_auto_flow": null,
            "grid_auto_rows": null,
            "grid_column": null,
            "grid_gap": null,
            "grid_row": null,
            "grid_template_areas": null,
            "grid_template_columns": null,
            "grid_template_rows": null,
            "height": null,
            "justify_content": null,
            "justify_items": null,
            "left": null,
            "margin": null,
            "max_height": null,
            "max_width": null,
            "min_height": null,
            "min_width": null,
            "object_fit": null,
            "object_position": null,
            "order": null,
            "overflow": null,
            "overflow_x": null,
            "overflow_y": null,
            "padding": null,
            "right": null,
            "top": null,
            "visibility": null,
            "width": null
          }
        },
        "9d3a1188a2de4b1db99a164e30b80ba3": {
          "model_module": "@jupyter-widgets/controls",
          "model_module_version": "1.5.0",
          "model_name": "DescriptionStyleModel",
          "state": {
            "_model_module": "@jupyter-widgets/controls",
            "_model_module_version": "1.5.0",
            "_model_name": "DescriptionStyleModel",
            "_view_count": null,
            "_view_module": "@jupyter-widgets/base",
            "_view_module_version": "1.2.0",
            "_view_name": "StyleView",
            "description_width": ""
          }
        },
        "a845b3e21eed4bc5b030e3fac7781d34": {
          "model_module": "@jupyter-widgets/controls",
          "model_module_version": "1.5.0",
          "model_name": "FloatProgressModel",
          "state": {
            "_dom_classes": [],
            "_model_module": "@jupyter-widgets/controls",
            "_model_module_version": "1.5.0",
            "_model_name": "FloatProgressModel",
            "_view_count": null,
            "_view_module": "@jupyter-widgets/controls",
            "_view_module_version": "1.5.0",
            "_view_name": "ProgressView",
            "bar_style": "success",
            "description": "",
            "description_tooltip": null,
            "layout": "IPY_MODEL_aad926b5815047e2ab62d89cc18074ad",
            "max": 500,
            "min": 0,
            "orientation": "horizontal",
            "style": "IPY_MODEL_74cfc6c5559542c699451abe964de71c",
            "value": 500
          }
        },
        "aad926b5815047e2ab62d89cc18074ad": {
          "model_module": "@jupyter-widgets/base",
          "model_module_version": "1.2.0",
          "model_name": "LayoutModel",
          "state": {
            "_model_module": "@jupyter-widgets/base",
            "_model_module_version": "1.2.0",
            "_model_name": "LayoutModel",
            "_view_count": null,
            "_view_module": "@jupyter-widgets/base",
            "_view_module_version": "1.2.0",
            "_view_name": "LayoutView",
            "align_content": null,
            "align_items": null,
            "align_self": null,
            "border": null,
            "bottom": null,
            "display": null,
            "flex": null,
            "flex_flow": null,
            "grid_area": null,
            "grid_auto_columns": null,
            "grid_auto_flow": null,
            "grid_auto_rows": null,
            "grid_column": null,
            "grid_gap": null,
            "grid_row": null,
            "grid_template_areas": null,
            "grid_template_columns": null,
            "grid_template_rows": null,
            "height": null,
            "justify_content": null,
            "justify_items": null,
            "left": null,
            "margin": null,
            "max_height": null,
            "max_width": null,
            "min_height": null,
            "min_width": null,
            "object_fit": null,
            "object_position": null,
            "order": null,
            "overflow": null,
            "overflow_x": null,
            "overflow_y": null,
            "padding": null,
            "right": null,
            "top": null,
            "visibility": null,
            "width": null
          }
        },
        "bc960e15b975434d8e7a9f18197e4b8c": {
          "model_module": "@jupyter-widgets/base",
          "model_module_version": "1.2.0",
          "model_name": "LayoutModel",
          "state": {
            "_model_module": "@jupyter-widgets/base",
            "_model_module_version": "1.2.0",
            "_model_name": "LayoutModel",
            "_view_count": null,
            "_view_module": "@jupyter-widgets/base",
            "_view_module_version": "1.2.0",
            "_view_name": "LayoutView",
            "align_content": null,
            "align_items": null,
            "align_self": null,
            "border": null,
            "bottom": null,
            "display": null,
            "flex": null,
            "flex_flow": null,
            "grid_area": null,
            "grid_auto_columns": null,
            "grid_auto_flow": null,
            "grid_auto_rows": null,
            "grid_column": null,
            "grid_gap": null,
            "grid_row": null,
            "grid_template_areas": null,
            "grid_template_columns": null,
            "grid_template_rows": null,
            "height": null,
            "justify_content": null,
            "justify_items": null,
            "left": null,
            "margin": null,
            "max_height": null,
            "max_width": null,
            "min_height": null,
            "min_width": null,
            "object_fit": null,
            "object_position": null,
            "order": null,
            "overflow": null,
            "overflow_x": null,
            "overflow_y": null,
            "padding": null,
            "right": null,
            "top": null,
            "visibility": null,
            "width": null
          }
        },
        "bec7afa9d6cb4b019e130f11fc1880f4": {
          "model_module": "@jupyter-widgets/controls",
          "model_module_version": "1.5.0",
          "model_name": "DescriptionStyleModel",
          "state": {
            "_model_module": "@jupyter-widgets/controls",
            "_model_module_version": "1.5.0",
            "_model_name": "DescriptionStyleModel",
            "_view_count": null,
            "_view_module": "@jupyter-widgets/base",
            "_view_module_version": "1.2.0",
            "_view_name": "StyleView",
            "description_width": ""
          }
        },
        "c1473864480347c4bf2b8162b22f3034": {
          "model_module": "@jupyter-widgets/controls",
          "model_module_version": "1.5.0",
          "model_name": "DescriptionStyleModel",
          "state": {
            "_model_module": "@jupyter-widgets/controls",
            "_model_module_version": "1.5.0",
            "_model_name": "DescriptionStyleModel",
            "_view_count": null,
            "_view_module": "@jupyter-widgets/base",
            "_view_module_version": "1.2.0",
            "_view_name": "StyleView",
            "description_width": ""
          }
        },
        "c89860a57f724cad8fb364dd344b38c2": {
          "model_module": "@jupyter-widgets/base",
          "model_module_version": "1.2.0",
          "model_name": "LayoutModel",
          "state": {
            "_model_module": "@jupyter-widgets/base",
            "_model_module_version": "1.2.0",
            "_model_name": "LayoutModel",
            "_view_count": null,
            "_view_module": "@jupyter-widgets/base",
            "_view_module_version": "1.2.0",
            "_view_name": "LayoutView",
            "align_content": null,
            "align_items": null,
            "align_self": null,
            "border": null,
            "bottom": null,
            "display": null,
            "flex": null,
            "flex_flow": null,
            "grid_area": null,
            "grid_auto_columns": null,
            "grid_auto_flow": null,
            "grid_auto_rows": null,
            "grid_column": null,
            "grid_gap": null,
            "grid_row": null,
            "grid_template_areas": null,
            "grid_template_columns": null,
            "grid_template_rows": null,
            "height": null,
            "justify_content": null,
            "justify_items": null,
            "left": null,
            "margin": null,
            "max_height": null,
            "max_width": null,
            "min_height": null,
            "min_width": null,
            "object_fit": null,
            "object_position": null,
            "order": null,
            "overflow": null,
            "overflow_x": null,
            "overflow_y": null,
            "padding": null,
            "right": null,
            "top": null,
            "visibility": null,
            "width": null
          }
        },
        "c93122a283ee45f29fc55e531868ac3a": {
          "model_module": "@jupyter-widgets/controls",
          "model_module_version": "1.5.0",
          "model_name": "HBoxModel",
          "state": {
            "_dom_classes": [],
            "_model_module": "@jupyter-widgets/controls",
            "_model_module_version": "1.5.0",
            "_model_name": "HBoxModel",
            "_view_count": null,
            "_view_module": "@jupyter-widgets/controls",
            "_view_module_version": "1.5.0",
            "_view_name": "HBoxView",
            "box_style": "",
            "children": [
              "IPY_MODEL_ef674bed3ffb44268e65ac6280f19574",
              "IPY_MODEL_cfaff5afa9b2476da4d55cdc1eaac0cf",
              "IPY_MODEL_454b2ff250f14c3d85540f0619b51ea5"
            ],
            "layout": "IPY_MODEL_034edc0266ee46caa6fd0d21ed3f3008"
          }
        },
        "cfaff5afa9b2476da4d55cdc1eaac0cf": {
          "model_module": "@jupyter-widgets/controls",
          "model_module_version": "1.5.0",
          "model_name": "FloatProgressModel",
          "state": {
            "_dom_classes": [],
            "_model_module": "@jupyter-widgets/controls",
            "_model_module_version": "1.5.0",
            "_model_name": "FloatProgressModel",
            "_view_count": null,
            "_view_module": "@jupyter-widgets/controls",
            "_view_module_version": "1.5.0",
            "_view_name": "ProgressView",
            "bar_style": "success",
            "description": "",
            "description_tooltip": null,
            "layout": "IPY_MODEL_77ea5ef2c89047e19ba4d432dd49560e",
            "max": 500,
            "min": 0,
            "orientation": "horizontal",
            "style": "IPY_MODEL_23397ff19c4e4b16b24f87832d5035e9",
            "value": 500
          }
        },
        "d22ec9e517714b09b07740fed43e362b": {
          "model_module": "@jupyter-widgets/controls",
          "model_module_version": "1.5.0",
          "model_name": "FloatProgressModel",
          "state": {
            "_dom_classes": [],
            "_model_module": "@jupyter-widgets/controls",
            "_model_module_version": "1.5.0",
            "_model_name": "FloatProgressModel",
            "_view_count": null,
            "_view_module": "@jupyter-widgets/controls",
            "_view_module_version": "1.5.0",
            "_view_name": "ProgressView",
            "bar_style": "success",
            "description": "",
            "description_tooltip": null,
            "layout": "IPY_MODEL_5caaebcd525d4c258d33d6ef64dfde5c",
            "max": 500,
            "min": 0,
            "orientation": "horizontal",
            "style": "IPY_MODEL_8161d6ebffbd431d8a0b9f284a5679a8",
            "value": 500
          }
        },
        "d779acdc530b45dea4a183d01726c20d": {
          "model_module": "@jupyter-widgets/controls",
          "model_module_version": "1.5.0",
          "model_name": "HTMLModel",
          "state": {
            "_dom_classes": [],
            "_model_module": "@jupyter-widgets/controls",
            "_model_module_version": "1.5.0",
            "_model_name": "HTMLModel",
            "_view_count": null,
            "_view_module": "@jupyter-widgets/controls",
            "_view_module_version": "1.5.0",
            "_view_name": "HTMLView",
            "description": "",
            "description_tooltip": null,
            "layout": "IPY_MODEL_bc960e15b975434d8e7a9f18197e4b8c",
            "placeholder": "​",
            "style": "IPY_MODEL_bec7afa9d6cb4b019e130f11fc1880f4",
            "value": "Running: 100%"
          }
        },
        "e1ff9f79412b4b0dbcb9026f07c4894b": {
          "model_module": "@jupyter-widgets/base",
          "model_module_version": "1.2.0",
          "model_name": "LayoutModel",
          "state": {
            "_model_module": "@jupyter-widgets/base",
            "_model_module_version": "1.2.0",
            "_model_name": "LayoutModel",
            "_view_count": null,
            "_view_module": "@jupyter-widgets/base",
            "_view_module_version": "1.2.0",
            "_view_name": "LayoutView",
            "align_content": null,
            "align_items": null,
            "align_self": null,
            "border": null,
            "bottom": null,
            "display": null,
            "flex": null,
            "flex_flow": null,
            "grid_area": null,
            "grid_auto_columns": null,
            "grid_auto_flow": null,
            "grid_auto_rows": null,
            "grid_column": null,
            "grid_gap": null,
            "grid_row": null,
            "grid_template_areas": null,
            "grid_template_columns": null,
            "grid_template_rows": null,
            "height": null,
            "justify_content": null,
            "justify_items": null,
            "left": null,
            "margin": null,
            "max_height": null,
            "max_width": null,
            "min_height": null,
            "min_width": null,
            "object_fit": null,
            "object_position": null,
            "order": null,
            "overflow": null,
            "overflow_x": null,
            "overflow_y": null,
            "padding": null,
            "right": null,
            "top": null,
            "visibility": null,
            "width": null
          }
        },
        "ef674bed3ffb44268e65ac6280f19574": {
          "model_module": "@jupyter-widgets/controls",
          "model_module_version": "1.5.0",
          "model_name": "HTMLModel",
          "state": {
            "_dom_classes": [],
            "_model_module": "@jupyter-widgets/controls",
            "_model_module_version": "1.5.0",
            "_model_name": "HTMLModel",
            "_view_count": null,
            "_view_module": "@jupyter-widgets/controls",
            "_view_module_version": "1.5.0",
            "_view_name": "HTMLView",
            "description": "",
            "description_tooltip": null,
            "layout": "IPY_MODEL_0cbcc0733eee42afbaa24e94e2426012",
            "placeholder": "​",
            "style": "IPY_MODEL_604095c2164a4559881440d60f6ee602",
            "value": "Running: 100%"
          }
        },
        "fd71aa9cfa2c4ec9b8613442bf708927": {
          "model_module": "@jupyter-widgets/base",
          "model_module_version": "1.2.0",
          "model_name": "LayoutModel",
          "state": {
            "_model_module": "@jupyter-widgets/base",
            "_model_module_version": "1.2.0",
            "_model_name": "LayoutModel",
            "_view_count": null,
            "_view_module": "@jupyter-widgets/base",
            "_view_module_version": "1.2.0",
            "_view_name": "LayoutView",
            "align_content": null,
            "align_items": null,
            "align_self": null,
            "border": null,
            "bottom": null,
            "display": null,
            "flex": null,
            "flex_flow": null,
            "grid_area": null,
            "grid_auto_columns": null,
            "grid_auto_flow": null,
            "grid_auto_rows": null,
            "grid_column": null,
            "grid_gap": null,
            "grid_row": null,
            "grid_template_areas": null,
            "grid_template_columns": null,
            "grid_template_rows": null,
            "height": null,
            "justify_content": null,
            "justify_items": null,
            "left": null,
            "margin": null,
            "max_height": null,
            "max_width": null,
            "min_height": null,
            "min_width": null,
            "object_fit": null,
            "object_position": null,
            "order": null,
            "overflow": null,
            "overflow_x": null,
            "overflow_y": null,
            "padding": null,
            "right": null,
            "top": null,
            "visibility": null,
            "width": null
          }
        }
      }
    }
  },
  "nbformat": 4,
  "nbformat_minor": 5
}
